{
 "cells": [
  {
   "cell_type": "code",
   "execution_count": 58,
   "id": "f8104e8e",
   "metadata": {},
   "outputs": [],
   "source": [
    "import pandas as pd\n",
    "import numpy as np \n",
    "import seaborn as sns\n",
    "import matplotlib.pyplot as plt"
   ]
  },
  {
   "cell_type": "code",
   "execution_count": 59,
   "id": "8496e97a",
   "metadata": {},
   "outputs": [],
   "source": [
    "data= pd.read_csv('Laptop.csv')"
   ]
  },
  {
   "cell_type": "code",
   "execution_count": 60,
   "id": "d45a0d88",
   "metadata": {},
   "outputs": [
    {
     "data": {
      "text/html": [
       "<div>\n",
       "<style scoped>\n",
       "    .dataframe tbody tr th:only-of-type {\n",
       "        vertical-align: middle;\n",
       "    }\n",
       "\n",
       "    .dataframe tbody tr th {\n",
       "        vertical-align: top;\n",
       "    }\n",
       "\n",
       "    .dataframe thead th {\n",
       "        text-align: right;\n",
       "    }\n",
       "</style>\n",
       "<table border=\"1\" class=\"dataframe\">\n",
       "  <thead>\n",
       "    <tr style=\"text-align: right;\">\n",
       "      <th></th>\n",
       "      <th>Unnamed: 0</th>\n",
       "      <th>Brand</th>\n",
       "      <th>Model</th>\n",
       "      <th>Series</th>\n",
       "      <th>Processor</th>\n",
       "      <th>Processor_Gen</th>\n",
       "      <th>RAM</th>\n",
       "      <th>Hard_Disk_Capacity</th>\n",
       "      <th>OS</th>\n",
       "      <th>Rating</th>\n",
       "      <th>Price</th>\n",
       "    </tr>\n",
       "  </thead>\n",
       "  <tbody>\n",
       "    <tr>\n",
       "      <th>0</th>\n",
       "      <td>0</td>\n",
       "      <td>DELL</td>\n",
       "      <td>Inspiron</td>\n",
       "      <td>NaN</td>\n",
       "      <td>i3</td>\n",
       "      <td>11th</td>\n",
       "      <td>8.0</td>\n",
       "      <td>1 TB HDD</td>\n",
       "      <td>Windows 11 Home</td>\n",
       "      <td>3.7</td>\n",
       "      <td>39040</td>\n",
       "    </tr>\n",
       "    <tr>\n",
       "      <th>1</th>\n",
       "      <td>1</td>\n",
       "      <td>DELL</td>\n",
       "      <td>Vostro</td>\n",
       "      <td>NaN</td>\n",
       "      <td>i5</td>\n",
       "      <td>11th</td>\n",
       "      <td>8.0</td>\n",
       "      <td>1 TB HDD</td>\n",
       "      <td>Windows 10 Home</td>\n",
       "      <td>3.6</td>\n",
       "      <td>50840</td>\n",
       "    </tr>\n",
       "    <tr>\n",
       "      <th>2</th>\n",
       "      <td>2</td>\n",
       "      <td>ASUS</td>\n",
       "      <td>VivoBook</td>\n",
       "      <td>15</td>\n",
       "      <td>i3</td>\n",
       "      <td>10th</td>\n",
       "      <td>8.0</td>\n",
       "      <td>512 GB SSD</td>\n",
       "      <td>Windows 11 Home</td>\n",
       "      <td>4.3</td>\n",
       "      <td>37940</td>\n",
       "    </tr>\n",
       "    <tr>\n",
       "      <th>3</th>\n",
       "      <td>3</td>\n",
       "      <td>DELL</td>\n",
       "      <td>Inspiron</td>\n",
       "      <td>NaN</td>\n",
       "      <td>i3</td>\n",
       "      <td>11th</td>\n",
       "      <td>8.0</td>\n",
       "      <td>1 TB HDD</td>\n",
       "      <td>256 GB SSD</td>\n",
       "      <td>4.4</td>\n",
       "      <td>44440</td>\n",
       "    </tr>\n",
       "    <tr>\n",
       "      <th>4</th>\n",
       "      <td>4</td>\n",
       "      <td>ASUS</td>\n",
       "      <td>TUF</td>\n",
       "      <td>Gaming</td>\n",
       "      <td>i5</td>\n",
       "      <td>10th</td>\n",
       "      <td>8.0</td>\n",
       "      <td>512 GB SSD</td>\n",
       "      <td>Windows 10 Home</td>\n",
       "      <td>4.5</td>\n",
       "      <td>57940</td>\n",
       "    </tr>\n",
       "  </tbody>\n",
       "</table>\n",
       "</div>"
      ],
      "text/plain": [
       "   Unnamed: 0 Brand     Model  Series Processor Processor_Gen  RAM  \\\n",
       "0           0  DELL  Inspiron     NaN        i3          11th  8.0   \n",
       "1           1  DELL    Vostro     NaN        i5          11th  8.0   \n",
       "2           2  ASUS  VivoBook      15        i3          10th  8.0   \n",
       "3           3  DELL  Inspiron     NaN        i3          11th  8.0   \n",
       "4           4  ASUS       TUF  Gaming        i5          10th  8.0   \n",
       "\n",
       "  Hard_Disk_Capacity               OS  Rating  Price  \n",
       "0           1 TB HDD  Windows 11 Home     3.7  39040  \n",
       "1           1 TB HDD  Windows 10 Home     3.6  50840  \n",
       "2         512 GB SSD  Windows 11 Home     4.3  37940  \n",
       "3           1 TB HDD       256 GB SSD     4.4  44440  \n",
       "4         512 GB SSD  Windows 10 Home     4.5  57940  "
      ]
     },
     "execution_count": 60,
     "metadata": {},
     "output_type": "execute_result"
    }
   ],
   "source": [
    "data.head()"
   ]
  },
  {
   "cell_type": "code",
   "execution_count": 61,
   "id": "dd447a73",
   "metadata": {},
   "outputs": [
    {
     "name": "stdout",
     "output_type": "stream",
     "text": [
      "<class 'pandas.core.frame.DataFrame'>\n",
      "RangeIndex: 130 entries, 0 to 129\n",
      "Data columns (total 11 columns):\n",
      " #   Column              Non-Null Count  Dtype  \n",
      "---  ------              --------------  -----  \n",
      " 0   Unnamed: 0          130 non-null    int64  \n",
      " 1   Brand               130 non-null    object \n",
      " 2   Model               116 non-null    object \n",
      " 3   Series              80 non-null     object \n",
      " 4   Processor           123 non-null    object \n",
      " 5   Processor_Gen       123 non-null    object \n",
      " 6   RAM                 122 non-null    float64\n",
      " 7   Hard_Disk_Capacity  122 non-null    object \n",
      " 8   OS                  122 non-null    object \n",
      " 9   Rating              130 non-null    float64\n",
      " 10  Price               130 non-null    int64  \n",
      "dtypes: float64(2), int64(2), object(7)\n",
      "memory usage: 11.3+ KB\n"
     ]
    }
   ],
   "source": [
    "data.info()"
   ]
  },
  {
   "cell_type": "code",
   "execution_count": 62,
   "id": "323ce81e",
   "metadata": {},
   "outputs": [
    {
     "data": {
      "text/plain": [
       "(130, 11)"
      ]
     },
     "execution_count": 62,
     "metadata": {},
     "output_type": "execute_result"
    }
   ],
   "source": [
    "data.shape"
   ]
  },
  {
   "cell_type": "code",
   "execution_count": 63,
   "id": "bb941c35",
   "metadata": {},
   "outputs": [
    {
     "data": {
      "text/html": [
       "<div>\n",
       "<style scoped>\n",
       "    .dataframe tbody tr th:only-of-type {\n",
       "        vertical-align: middle;\n",
       "    }\n",
       "\n",
       "    .dataframe tbody tr th {\n",
       "        vertical-align: top;\n",
       "    }\n",
       "\n",
       "    .dataframe thead th {\n",
       "        text-align: right;\n",
       "    }\n",
       "</style>\n",
       "<table border=\"1\" class=\"dataframe\">\n",
       "  <thead>\n",
       "    <tr style=\"text-align: right;\">\n",
       "      <th></th>\n",
       "      <th>Unnamed: 0</th>\n",
       "      <th>RAM</th>\n",
       "      <th>Rating</th>\n",
       "      <th>Price</th>\n",
       "    </tr>\n",
       "  </thead>\n",
       "  <tbody>\n",
       "    <tr>\n",
       "      <th>count</th>\n",
       "      <td>130.000000</td>\n",
       "      <td>122.000000</td>\n",
       "      <td>130.000000</td>\n",
       "      <td>130.000000</td>\n",
       "    </tr>\n",
       "    <tr>\n",
       "      <th>mean</th>\n",
       "      <td>64.500000</td>\n",
       "      <td>8.622951</td>\n",
       "      <td>4.185385</td>\n",
       "      <td>53962.476923</td>\n",
       "    </tr>\n",
       "    <tr>\n",
       "      <th>std</th>\n",
       "      <td>37.671829</td>\n",
       "      <td>3.253296</td>\n",
       "      <td>0.364960</td>\n",
       "      <td>21369.679452</td>\n",
       "    </tr>\n",
       "    <tr>\n",
       "      <th>min</th>\n",
       "      <td>0.000000</td>\n",
       "      <td>4.000000</td>\n",
       "      <td>2.900000</td>\n",
       "      <td>17640.000000</td>\n",
       "    </tr>\n",
       "    <tr>\n",
       "      <th>25%</th>\n",
       "      <td>32.250000</td>\n",
       "      <td>8.000000</td>\n",
       "      <td>4.100000</td>\n",
       "      <td>39052.500000</td>\n",
       "    </tr>\n",
       "    <tr>\n",
       "      <th>50%</th>\n",
       "      <td>64.500000</td>\n",
       "      <td>8.000000</td>\n",
       "      <td>4.300000</td>\n",
       "      <td>46940.000000</td>\n",
       "    </tr>\n",
       "    <tr>\n",
       "      <th>75%</th>\n",
       "      <td>96.750000</td>\n",
       "      <td>8.000000</td>\n",
       "      <td>4.400000</td>\n",
       "      <td>61565.000000</td>\n",
       "    </tr>\n",
       "    <tr>\n",
       "      <th>max</th>\n",
       "      <td>129.000000</td>\n",
       "      <td>16.000000</td>\n",
       "      <td>4.800000</td>\n",
       "      <td>129990.000000</td>\n",
       "    </tr>\n",
       "  </tbody>\n",
       "</table>\n",
       "</div>"
      ],
      "text/plain": [
       "       Unnamed: 0         RAM      Rating          Price\n",
       "count  130.000000  122.000000  130.000000     130.000000\n",
       "mean    64.500000    8.622951    4.185385   53962.476923\n",
       "std     37.671829    3.253296    0.364960   21369.679452\n",
       "min      0.000000    4.000000    2.900000   17640.000000\n",
       "25%     32.250000    8.000000    4.100000   39052.500000\n",
       "50%     64.500000    8.000000    4.300000   46940.000000\n",
       "75%     96.750000    8.000000    4.400000   61565.000000\n",
       "max    129.000000   16.000000    4.800000  129990.000000"
      ]
     },
     "execution_count": 63,
     "metadata": {},
     "output_type": "execute_result"
    }
   ],
   "source": [
    "data.describe()"
   ]
  },
  {
   "cell_type": "code",
   "execution_count": 64,
   "id": "be1fec15",
   "metadata": {},
   "outputs": [
    {
     "data": {
      "text/plain": [
       "Unnamed: 0             0\n",
       "Brand                  0\n",
       "Model                 14\n",
       "Series                50\n",
       "Processor              7\n",
       "Processor_Gen          7\n",
       "RAM                    8\n",
       "Hard_Disk_Capacity     8\n",
       "OS                     8\n",
       "Rating                 0\n",
       "Price                  0\n",
       "dtype: int64"
      ]
     },
     "execution_count": 64,
     "metadata": {},
     "output_type": "execute_result"
    }
   ],
   "source": [
    "data.isnull().sum()"
   ]
  },
  {
   "cell_type": "code",
   "execution_count": null,
   "id": "4e9b814a",
   "metadata": {},
   "outputs": [],
   "source": []
  },
  {
   "cell_type": "code",
   "execution_count": 65,
   "id": "0eff6bbf",
   "metadata": {
    "scrolled": true
   },
   "outputs": [],
   "source": [
    "data.drop(columns=['Unnamed: 0' ],axis=0, inplace=True)"
   ]
  },
  {
   "cell_type": "code",
   "execution_count": 66,
   "id": "56086e63",
   "metadata": {},
   "outputs": [
    {
     "data": {
      "text/plain": [
       "Index(['Brand', 'Model', 'Series', 'Processor', 'Processor_Gen', 'RAM',\n",
       "       'Hard_Disk_Capacity', 'OS', 'Rating', 'Price'],\n",
       "      dtype='object')"
      ]
     },
     "execution_count": 66,
     "metadata": {},
     "output_type": "execute_result"
    }
   ],
   "source": [
    "data.columns"
   ]
  },
  {
   "cell_type": "code",
   "execution_count": 67,
   "id": "9c79916b",
   "metadata": {},
   "outputs": [
    {
     "name": "stdout",
     "output_type": "stream",
     "text": [
      "[nan '15' 'Gaming' '3' 'Athlon' 'Ryzen' '7' 'Ultra' '14' 'Slim' 'Macbook'\n",
      " '3405' 'Thin' 'Zephyrus' 'K15' 'TUF' 'Pavilion' '(Slim)' 'GF66' 'Air'\n",
      " 'Flex' '5' 'PC' 'Celeron' 'Laptop' 'Strix' 'Duo' '530s' 'Dual']\n",
      "['i3' 'i5' '3250U' '3050U' '5600U' '-' '5500U' 'i7' '5300U' '5600H'\n",
      " '3450U' nan '4800HS' '4600H' '4800H' 'R3-3250U' 'AMD' 'A9']\n",
      "['1 TB HDD' '512 GB SSD' '256 GB SSD' nan '1 TB SSD' '64 GB EMMC Storage'\n",
      " '128 GB SSD' '32 GB EMMC Storage']\n",
      "['11th' '10th' '3rd' '-' '(4' nan '(8' '8th' 'Ryzen™' 'A99425' '7th']\n",
      "[ 8.  4. 16. nan]\n"
     ]
    }
   ],
   "source": [
    "print(data['Series'].unique())\n",
    "print(data['Processor'].unique())\n",
    "print(data['Hard_Disk_Capacity'].unique())\n",
    "print(data['Processor_Gen'].unique())\n",
    "print(data['RAM'].unique())\n",
    "\n"
   ]
  },
  {
   "cell_type": "code",
   "execution_count": 68,
   "id": "3a1c01b3",
   "metadata": {},
   "outputs": [],
   "source": [
    "data.fillna(data.mean(), inplace=True)"
   ]
  },
  {
   "cell_type": "code",
   "execution_count": 69,
   "id": "6879a015",
   "metadata": {},
   "outputs": [
    {
     "data": {
      "text/plain": [
       "Brand                  0\n",
       "Model                 14\n",
       "Series                50\n",
       "Processor              7\n",
       "Processor_Gen          7\n",
       "RAM                    0\n",
       "Hard_Disk_Capacity     8\n",
       "OS                     8\n",
       "Rating                 0\n",
       "Price                  0\n",
       "dtype: int64"
      ]
     },
     "execution_count": 69,
     "metadata": {},
     "output_type": "execute_result"
    }
   ],
   "source": [
    "data.isnull().sum()"
   ]
  },
  {
   "cell_type": "code",
   "execution_count": 70,
   "id": "42f38ae3",
   "metadata": {},
   "outputs": [
    {
     "data": {
      "text/html": [
       "<div>\n",
       "<style scoped>\n",
       "    .dataframe tbody tr th:only-of-type {\n",
       "        vertical-align: middle;\n",
       "    }\n",
       "\n",
       "    .dataframe tbody tr th {\n",
       "        vertical-align: top;\n",
       "    }\n",
       "\n",
       "    .dataframe thead th {\n",
       "        text-align: right;\n",
       "    }\n",
       "</style>\n",
       "<table border=\"1\" class=\"dataframe\">\n",
       "  <thead>\n",
       "    <tr style=\"text-align: right;\">\n",
       "      <th></th>\n",
       "      <th>RAM</th>\n",
       "      <th>Rating</th>\n",
       "      <th>Price</th>\n",
       "    </tr>\n",
       "  </thead>\n",
       "  <tbody>\n",
       "    <tr>\n",
       "      <th>RAM</th>\n",
       "      <td>1.000000</td>\n",
       "      <td>0.231083</td>\n",
       "      <td>0.490172</td>\n",
       "    </tr>\n",
       "    <tr>\n",
       "      <th>Rating</th>\n",
       "      <td>0.231083</td>\n",
       "      <td>1.000000</td>\n",
       "      <td>0.442159</td>\n",
       "    </tr>\n",
       "    <tr>\n",
       "      <th>Price</th>\n",
       "      <td>0.490172</td>\n",
       "      <td>0.442159</td>\n",
       "      <td>1.000000</td>\n",
       "    </tr>\n",
       "  </tbody>\n",
       "</table>\n",
       "</div>"
      ],
      "text/plain": [
       "             RAM    Rating     Price\n",
       "RAM     1.000000  0.231083  0.490172\n",
       "Rating  0.231083  1.000000  0.442159\n",
       "Price   0.490172  0.442159  1.000000"
      ]
     },
     "execution_count": 70,
     "metadata": {},
     "output_type": "execute_result"
    }
   ],
   "source": [
    "data.corr()"
   ]
  },
  {
   "cell_type": "code",
   "execution_count": 71,
   "id": "8c514bb9",
   "metadata": {},
   "outputs": [
    {
     "data": {
      "text/plain": [
       "<seaborn.axisgrid.PairGrid at 0x1f3b3482bb0>"
      ]
     },
     "execution_count": 71,
     "metadata": {},
     "output_type": "execute_result"
    },
    {
     "data": {
      "image/png": "[encoded data removed]",
      "text/plain": [
       "<Figure size 540x540 with 12 Axes>"
      ]
     },
     "metadata": {
      "needs_background": "light"
     },
     "output_type": "display_data"
    }
   ],
   "source": [
    "sns.pairplot(data)"
   ]
  },
  {
   "cell_type": "code",
   "execution_count": 78,
   "id": "b81d39a3",
   "metadata": {},
   "outputs": [
    {
     "data": {
      "image/png": "[encoded data removed]",
      "text/plain": [
       "<Figure size 432x288 with 2 Axes>"
      ]
     },
     "metadata": {
      "needs_background": "light"
     },
     "output_type": "display_data"
    }
   ],
   "source": [
    "g=sns.heatmap(data.corr(),annot=True,cmap=\"RdYlGn\")"
   ]
  },
  {
   "cell_type": "markdown",
   "id": "5ad69791",
   "metadata": {},
   "source": [
    "DATA VISUALIZATION"
   ]
  },
  {
   "cell_type": "code",
   "execution_count": 80,
   "id": "92c2e601",
   "metadata": {},
   "outputs": [
    {
     "data": {
      "text/plain": [
       "<AxesSubplot:xlabel='Brand', ylabel='count'>"
      ]
     },
     "execution_count": 80,
     "metadata": {},
     "output_type": "execute_result"
    },
    {
     "data": {
      "image/png": "[encoded data removed]",
      "text/plain": [
       "<Figure size 432x288 with 1 Axes>"
      ]
     },
     "metadata": {
      "needs_background": "light"
     },
     "output_type": "display_data"
    }
   ],
   "source": [
    "sns.countplot(data['Brand'])"
   ]
  },
  {
   "cell_type": "code",
   "execution_count": 82,
   "id": "5e9219f6",
   "metadata": {},
   "outputs": [
    {
     "name": "stderr",
     "output_type": "stream",
     "text": [
      "C:\\Users\\ZS\\anaconda3\\lib\\site-packages\\seaborn\\_decorators.py:36: FutureWarning: Pass the following variable as a keyword arg: x. From version 0.12, the only valid positional argument will be `data`, and passing other arguments without an explicit keyword will result in an error or misinterpretation.\n",
      "  warnings.warn(\n"
     ]
    },
    {
     "data": {
      "text/plain": [
       "<AxesSubplot:xlabel='Processor', ylabel='count'>"
      ]
     },
     "execution_count": 82,
     "metadata": {},
     "output_type": "execute_result"
    },
    {
     "data": {
      "image/png": "[encoded data removed]",
      "text/plain": [
       "<Figure size 432x288 with 1 Axes>"
      ]
     },
     "metadata": {
      "needs_background": "light"
     },
     "output_type": "display_data"
    }
   ],
   "source": [
    "sns.countplot(data['Processor'])"
   ]
  },
  {
   "cell_type": "code",
   "execution_count": null,
   "id": "3840ef06",
   "metadata": {},
   "outputs": [],
   "source": []
  },
  {
   "cell_type": "code",
   "execution_count": null,
   "id": "546292cc",
   "metadata": {},
   "outputs": [],
   "source": []
  }
 ],
 "metadata": {
  "kernelspec": {
   "display_name": "Python 3",
   "language": "python",
   "name": "python3"
  },
  "language_info": {
   "codemirror_mode": {
    "name": "ipython",
    "version": 3
   },
   "file_extension": ".py",
   "mimetype": "text/x-python",
   "name": "python",
   "nbconvert_exporter": "python",
   "pygments_lexer": "ipython3",
   "version": "3.8.8"
  }
 },
 "nbformat": 4,
 "nbformat_minor": 5
}
